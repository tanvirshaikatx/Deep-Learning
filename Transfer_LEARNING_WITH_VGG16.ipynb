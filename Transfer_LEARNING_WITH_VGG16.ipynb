{
  "nbformat": 4,
  "nbformat_minor": 0,
  "metadata": {
    "colab": {
      "provenance": [],
      "gpuType": "T4"
    },
    "kernelspec": {
      "name": "python3",
      "display_name": "Python 3"
    },
    "language_info": {
      "name": "python"
    },
    "accelerator": "GPU",
    "widgets": {
      "application/vnd.jupyter.widget-state+json": {
        "9c770a023aeb4c75af3278a5e849a066": {
          "model_module": "@jupyter-widgets/controls",
          "model_name": "HBoxModel",
          "model_module_version": "1.5.0",
          "state": {
            "_dom_classes": [],
            "_model_module": "@jupyter-widgets/controls",
            "_model_module_version": "1.5.0",
            "_model_name": "HBoxModel",
            "_view_count": null,
            "_view_module": "@jupyter-widgets/controls",
            "_view_module_version": "1.5.0",
            "_view_name": "HBoxView",
            "box_style": "",
            "children": [
              "IPY_MODEL_3c1714de7c7f4ff38e1c5f15f318586d",
              "IPY_MODEL_50b50f5225484a69992d7d37ad4ddd16",
              "IPY_MODEL_b22b70c5f4754fdd90c7e0ad00a9c6ae"
            ],
            "layout": "IPY_MODEL_0186de8c36bb46eebd9d5b554ba2bfd8"
          }
        },
        "3c1714de7c7f4ff38e1c5f15f318586d": {
          "model_module": "@jupyter-widgets/controls",
          "model_name": "HTMLModel",
          "model_module_version": "1.5.0",
          "state": {
            "_dom_classes": [],
            "_model_module": "@jupyter-widgets/controls",
            "_model_module_version": "1.5.0",
            "_model_name": "HTMLModel",
            "_view_count": null,
            "_view_module": "@jupyter-widgets/controls",
            "_view_module_version": "1.5.0",
            "_view_name": "HTMLView",
            "description": "",
            "description_tooltip": null,
            "layout": "IPY_MODEL_edfa06f604bc49fd9f1ca7b70e3eb5f4",
            "placeholder": "​",
            "style": "IPY_MODEL_c595855a1d184edca8b06637dbd45766",
            "value": "Dl Completed...: 100%"
          }
        },
        "50b50f5225484a69992d7d37ad4ddd16": {
          "model_module": "@jupyter-widgets/controls",
          "model_name": "FloatProgressModel",
          "model_module_version": "1.5.0",
          "state": {
            "_dom_classes": [],
            "_model_module": "@jupyter-widgets/controls",
            "_model_module_version": "1.5.0",
            "_model_name": "FloatProgressModel",
            "_view_count": null,
            "_view_module": "@jupyter-widgets/controls",
            "_view_module_version": "1.5.0",
            "_view_name": "ProgressView",
            "bar_style": "success",
            "description": "",
            "description_tooltip": null,
            "layout": "IPY_MODEL_dffa6bc97d184779a208ac22e35e69f8",
            "max": 5,
            "min": 0,
            "orientation": "horizontal",
            "style": "IPY_MODEL_1fcfe4e486a64280ab3518a9c2a3c654",
            "value": 5
          }
        },
        "b22b70c5f4754fdd90c7e0ad00a9c6ae": {
          "model_module": "@jupyter-widgets/controls",
          "model_name": "HTMLModel",
          "model_module_version": "1.5.0",
          "state": {
            "_dom_classes": [],
            "_model_module": "@jupyter-widgets/controls",
            "_model_module_version": "1.5.0",
            "_model_name": "HTMLModel",
            "_view_count": null,
            "_view_module": "@jupyter-widgets/controls",
            "_view_module_version": "1.5.0",
            "_view_name": "HTMLView",
            "description": "",
            "description_tooltip": null,
            "layout": "IPY_MODEL_3e1d2cd6de9d4c7ba2dac51c8a54654a",
            "placeholder": "​",
            "style": "IPY_MODEL_7988570d138e4ee196a3293106955d47",
            "value": " 5/5 [00:17&lt;00:00,  3.48s/ file]"
          }
        },
        "0186de8c36bb46eebd9d5b554ba2bfd8": {
          "model_module": "@jupyter-widgets/base",
          "model_name": "LayoutModel",
          "model_module_version": "1.2.0",
          "state": {
            "_model_module": "@jupyter-widgets/base",
            "_model_module_version": "1.2.0",
            "_model_name": "LayoutModel",
            "_view_count": null,
            "_view_module": "@jupyter-widgets/base",
            "_view_module_version": "1.2.0",
            "_view_name": "LayoutView",
            "align_content": null,
            "align_items": null,
            "align_self": null,
            "border": null,
            "bottom": null,
            "display": null,
            "flex": null,
            "flex_flow": null,
            "grid_area": null,
            "grid_auto_columns": null,
            "grid_auto_flow": null,
            "grid_auto_rows": null,
            "grid_column": null,
            "grid_gap": null,
            "grid_row": null,
            "grid_template_areas": null,
            "grid_template_columns": null,
            "grid_template_rows": null,
            "height": null,
            "justify_content": null,
            "justify_items": null,
            "left": null,
            "margin": null,
            "max_height": null,
            "max_width": null,
            "min_height": null,
            "min_width": null,
            "object_fit": null,
            "object_position": null,
            "order": null,
            "overflow": null,
            "overflow_x": null,
            "overflow_y": null,
            "padding": null,
            "right": null,
            "top": null,
            "visibility": null,
            "width": null
          }
        },
        "edfa06f604bc49fd9f1ca7b70e3eb5f4": {
          "model_module": "@jupyter-widgets/base",
          "model_name": "LayoutModel",
          "model_module_version": "1.2.0",
          "state": {
            "_model_module": "@jupyter-widgets/base",
            "_model_module_version": "1.2.0",
            "_model_name": "LayoutModel",
            "_view_count": null,
            "_view_module": "@jupyter-widgets/base",
            "_view_module_version": "1.2.0",
            "_view_name": "LayoutView",
            "align_content": null,
            "align_items": null,
            "align_self": null,
            "border": null,
            "bottom": null,
            "display": null,
            "flex": null,
            "flex_flow": null,
            "grid_area": null,
            "grid_auto_columns": null,
            "grid_auto_flow": null,
            "grid_auto_rows": null,
            "grid_column": null,
            "grid_gap": null,
            "grid_row": null,
            "grid_template_areas": null,
            "grid_template_columns": null,
            "grid_template_rows": null,
            "height": null,
            "justify_content": null,
            "justify_items": null,
            "left": null,
            "margin": null,
            "max_height": null,
            "max_width": null,
            "min_height": null,
            "min_width": null,
            "object_fit": null,
            "object_position": null,
            "order": null,
            "overflow": null,
            "overflow_x": null,
            "overflow_y": null,
            "padding": null,
            "right": null,
            "top": null,
            "visibility": null,
            "width": null
          }
        },
        "c595855a1d184edca8b06637dbd45766": {
          "model_module": "@jupyter-widgets/controls",
          "model_name": "DescriptionStyleModel",
          "model_module_version": "1.5.0",
          "state": {
            "_model_module": "@jupyter-widgets/controls",
            "_model_module_version": "1.5.0",
            "_model_name": "DescriptionStyleModel",
            "_view_count": null,
            "_view_module": "@jupyter-widgets/base",
            "_view_module_version": "1.2.0",
            "_view_name": "StyleView",
            "description_width": ""
          }
        },
        "dffa6bc97d184779a208ac22e35e69f8": {
          "model_module": "@jupyter-widgets/base",
          "model_name": "LayoutModel",
          "model_module_version": "1.2.0",
          "state": {
            "_model_module": "@jupyter-widgets/base",
            "_model_module_version": "1.2.0",
            "_model_name": "LayoutModel",
            "_view_count": null,
            "_view_module": "@jupyter-widgets/base",
            "_view_module_version": "1.2.0",
            "_view_name": "LayoutView",
            "align_content": null,
            "align_items": null,
            "align_self": null,
            "border": null,
            "bottom": null,
            "display": null,
            "flex": null,
            "flex_flow": null,
            "grid_area": null,
            "grid_auto_columns": null,
            "grid_auto_flow": null,
            "grid_auto_rows": null,
            "grid_column": null,
            "grid_gap": null,
            "grid_row": null,
            "grid_template_areas": null,
            "grid_template_columns": null,
            "grid_template_rows": null,
            "height": null,
            "justify_content": null,
            "justify_items": null,
            "left": null,
            "margin": null,
            "max_height": null,
            "max_width": null,
            "min_height": null,
            "min_width": null,
            "object_fit": null,
            "object_position": null,
            "order": null,
            "overflow": null,
            "overflow_x": null,
            "overflow_y": null,
            "padding": null,
            "right": null,
            "top": null,
            "visibility": null,
            "width": null
          }
        },
        "1fcfe4e486a64280ab3518a9c2a3c654": {
          "model_module": "@jupyter-widgets/controls",
          "model_name": "ProgressStyleModel",
          "model_module_version": "1.5.0",
          "state": {
            "_model_module": "@jupyter-widgets/controls",
            "_model_module_version": "1.5.0",
            "_model_name": "ProgressStyleModel",
            "_view_count": null,
            "_view_module": "@jupyter-widgets/base",
            "_view_module_version": "1.2.0",
            "_view_name": "StyleView",
            "bar_color": null,
            "description_width": ""
          }
        },
        "3e1d2cd6de9d4c7ba2dac51c8a54654a": {
          "model_module": "@jupyter-widgets/base",
          "model_name": "LayoutModel",
          "model_module_version": "1.2.0",
          "state": {
            "_model_module": "@jupyter-widgets/base",
            "_model_module_version": "1.2.0",
            "_model_name": "LayoutModel",
            "_view_count": null,
            "_view_module": "@jupyter-widgets/base",
            "_view_module_version": "1.2.0",
            "_view_name": "LayoutView",
            "align_content": null,
            "align_items": null,
            "align_self": null,
            "border": null,
            "bottom": null,
            "display": null,
            "flex": null,
            "flex_flow": null,
            "grid_area": null,
            "grid_auto_columns": null,
            "grid_auto_flow": null,
            "grid_auto_rows": null,
            "grid_column": null,
            "grid_gap": null,
            "grid_row": null,
            "grid_template_areas": null,
            "grid_template_columns": null,
            "grid_template_rows": null,
            "height": null,
            "justify_content": null,
            "justify_items": null,
            "left": null,
            "margin": null,
            "max_height": null,
            "max_width": null,
            "min_height": null,
            "min_width": null,
            "object_fit": null,
            "object_position": null,
            "order": null,
            "overflow": null,
            "overflow_x": null,
            "overflow_y": null,
            "padding": null,
            "right": null,
            "top": null,
            "visibility": null,
            "width": null
          }
        },
        "7988570d138e4ee196a3293106955d47": {
          "model_module": "@jupyter-widgets/controls",
          "model_name": "DescriptionStyleModel",
          "model_module_version": "1.5.0",
          "state": {
            "_model_module": "@jupyter-widgets/controls",
            "_model_module_version": "1.5.0",
            "_model_name": "DescriptionStyleModel",
            "_view_count": null,
            "_view_module": "@jupyter-widgets/base",
            "_view_module_version": "1.2.0",
            "_view_name": "StyleView",
            "description_width": ""
          }
        }
      }
    }
  },
  "cells": [
    {
      "cell_type": "code",
      "execution_count": null,
      "metadata": {
        "id": "5KtNA_7J8rrg"
      },
      "outputs": [],
      "source": [
        "\n",
        "import tensorflow_datasets as tfds\n",
        "import tensorflow as tf\n",
        "from tensorflow.keras.utils import to_categorical"
      ]
    },
    {
      "cell_type": "code",
      "source": [
        "(train_ds, train_labels), (test_ds, test_labels) = tfds.load(\n",
        "    \"tf_flowers\",\n",
        "    split=[\"train[:70%]\", \"train[:30%]\"], ## Train test split\n",
        "    batch_size=-1,\n",
        "    as_supervised=True,  # Include labels\n",
        ")"
      ],
      "metadata": {
        "colab": {
          "base_uri": "https://localhost:8080/",
          "height": 104,
          "referenced_widgets": [
            "9c770a023aeb4c75af3278a5e849a066",
            "3c1714de7c7f4ff38e1c5f15f318586d",
            "50b50f5225484a69992d7d37ad4ddd16",
            "b22b70c5f4754fdd90c7e0ad00a9c6ae",
            "0186de8c36bb46eebd9d5b554ba2bfd8",
            "edfa06f604bc49fd9f1ca7b70e3eb5f4",
            "c595855a1d184edca8b06637dbd45766",
            "dffa6bc97d184779a208ac22e35e69f8",
            "1fcfe4e486a64280ab3518a9c2a3c654",
            "3e1d2cd6de9d4c7ba2dac51c8a54654a",
            "7988570d138e4ee196a3293106955d47"
          ]
        },
        "id": "4_k91HHYOP_L",
        "outputId": "85abb686-05fd-48bd-fb73-906dbc6768c4"
      },
      "execution_count": null,
      "outputs": [
        {
          "output_type": "stream",
          "name": "stdout",
          "text": [
            "Downloading and preparing dataset 218.21 MiB (download: 218.21 MiB, generated: 221.83 MiB, total: 440.05 MiB) to /root/tensorflow_datasets/tf_flowers/3.0.1...\n"
          ]
        },
        {
          "output_type": "display_data",
          "data": {
            "text/plain": [
              "Dl Completed...:   0%|          | 0/5 [00:00<?, ? file/s]"
            ],
            "application/vnd.jupyter.widget-view+json": {
              "version_major": 2,
              "version_minor": 0,
              "model_id": "9c770a023aeb4c75af3278a5e849a066"
            }
          },
          "metadata": {}
        },
        {
          "output_type": "stream",
          "name": "stdout",
          "text": [
            "Dataset tf_flowers downloaded and prepared to /root/tensorflow_datasets/tf_flowers/3.0.1. Subsequent calls will reuse this data.\n"
          ]
        }
      ]
    },
    {
      "cell_type": "code",
      "source": [
        "train_ds[0].shape"
      ],
      "metadata": {
        "colab": {
          "base_uri": "https://localhost:8080/"
        },
        "id": "Zje4JoRHOy6R",
        "outputId": "571f7099-6dc5-4f91-cd6e-a4cefb1ef2c6"
      },
      "execution_count": null,
      "outputs": [
        {
          "output_type": "execute_result",
          "data": {
            "text/plain": [
              "TensorShape([442, 1024, 3])"
            ]
          },
          "metadata": {},
          "execution_count": 3
        }
      ]
    },
    {
      "cell_type": "code",
      "source": [
        "train_ds = tf.image.resize(train_ds, (150, 150))\n",
        "test_ds = tf.image.resize(test_ds, (150, 150))"
      ],
      "metadata": {
        "id": "VsbfjQvQO6bS"
      },
      "execution_count": null,
      "outputs": []
    },
    {
      "cell_type": "code",
      "source": [
        "train_labels = to_categorical(train_labels, num_classes=5)\n",
        "test_labels = to_categorical(test_labels, num_classes=5)"
      ],
      "metadata": {
        "id": "5uWPq5TxO9_h"
      },
      "execution_count": null,
      "outputs": []
    },
    {
      "cell_type": "code",
      "source": [
        "train_labels"
      ],
      "metadata": {
        "colab": {
          "base_uri": "https://localhost:8080/"
        },
        "id": "7mHE7D8kPE9h",
        "outputId": "53eddb3f-ae42-428e-88e7-23d08d6a4496"
      },
      "execution_count": null,
      "outputs": [
        {
          "output_type": "execute_result",
          "data": {
            "text/plain": [
              "array([[0., 0., 1., 0., 0.],\n",
              "       [0., 0., 0., 1., 0.],\n",
              "       [0., 0., 0., 1., 0.],\n",
              "       ...,\n",
              "       [1., 0., 0., 0., 0.],\n",
              "       [0., 0., 1., 0., 0.],\n",
              "       [1., 0., 0., 0., 0.]], dtype=float32)"
            ]
          },
          "metadata": {},
          "execution_count": 6
        }
      ]
    },
    {
      "cell_type": "code",
      "source": [
        "from tensorflow.keras.applications.vgg16 import VGG16\n",
        "from tensorflow.keras.applications.vgg16 import preprocess_input"
      ],
      "metadata": {
        "id": "4B0cVYoRPHAR"
      },
      "execution_count": null,
      "outputs": []
    },
    {
      "cell_type": "code",
      "source": [
        "## Loading VGG16 model\n",
        "base_model = VGG16(weights=\"imagenet\", include_top=False, input_shape=train_ds[0].shape)"
      ],
      "metadata": {
        "colab": {
          "base_uri": "https://localhost:8080/"
        },
        "id": "M_gzbZd2PQEA",
        "outputId": "b52df86d-cd9c-4d69-8cfb-cb34dd930eba"
      },
      "execution_count": null,
      "outputs": [
        {
          "output_type": "stream",
          "name": "stdout",
          "text": [
            "Downloading data from https://storage.googleapis.com/tensorflow/keras-applications/vgg16/vgg16_weights_tf_dim_ordering_tf_kernels_notop.h5\n",
            "58889256/58889256 [==============================] - 4s 0us/step\n"
          ]
        }
      ]
    },
    {
      "cell_type": "code",
      "source": [
        "base_model.trainable = False"
      ],
      "metadata": {
        "id": "YWm36lR1PUAZ"
      },
      "execution_count": null,
      "outputs": []
    },
    {
      "cell_type": "code",
      "source": [
        "# input preprocess\n",
        "train_ds = preprocess_input(train_ds)\n",
        "test_ds = preprocess_input(test_ds)"
      ],
      "metadata": {
        "id": "S5u32AoWPds5"
      },
      "execution_count": null,
      "outputs": []
    },
    {
      "cell_type": "code",
      "source": [
        "base_model.summary()"
      ],
      "metadata": {
        "colab": {
          "base_uri": "https://localhost:8080/"
        },
        "id": "hVZvtjufPlD5",
        "outputId": "58e1233b-57fe-45a4-9fc4-8cd6b7a74bee"
      },
      "execution_count": null,
      "outputs": [
        {
          "output_type": "stream",
          "name": "stdout",
          "text": [
            "Model: \"vgg16\"\n",
            "_________________________________________________________________\n",
            " Layer (type)                Output Shape              Param #   \n",
            "=================================================================\n",
            " input_1 (InputLayer)        [(None, 150, 150, 3)]     0         \n",
            "                                                                 \n",
            " block1_conv1 (Conv2D)       (None, 150, 150, 64)      1792      \n",
            "                                                                 \n",
            " block1_conv2 (Conv2D)       (None, 150, 150, 64)      36928     \n",
            "                                                                 \n",
            " block1_pool (MaxPooling2D)  (None, 75, 75, 64)        0         \n",
            "                                                                 \n",
            " block2_conv1 (Conv2D)       (None, 75, 75, 128)       73856     \n",
            "                                                                 \n",
            " block2_conv2 (Conv2D)       (None, 75, 75, 128)       147584    \n",
            "                                                                 \n",
            " block2_pool (MaxPooling2D)  (None, 37, 37, 128)       0         \n",
            "                                                                 \n",
            " block3_conv1 (Conv2D)       (None, 37, 37, 256)       295168    \n",
            "                                                                 \n",
            " block3_conv2 (Conv2D)       (None, 37, 37, 256)       590080    \n",
            "                                                                 \n",
            " block3_conv3 (Conv2D)       (None, 37, 37, 256)       590080    \n",
            "                                                                 \n",
            " block3_pool (MaxPooling2D)  (None, 18, 18, 256)       0         \n",
            "                                                                 \n",
            " block4_conv1 (Conv2D)       (None, 18, 18, 512)       1180160   \n",
            "                                                                 \n",
            " block4_conv2 (Conv2D)       (None, 18, 18, 512)       2359808   \n",
            "                                                                 \n",
            " block4_conv3 (Conv2D)       (None, 18, 18, 512)       2359808   \n",
            "                                                                 \n",
            " block4_pool (MaxPooling2D)  (None, 9, 9, 512)         0         \n",
            "                                                                 \n",
            " block5_conv1 (Conv2D)       (None, 9, 9, 512)         2359808   \n",
            "                                                                 \n",
            " block5_conv2 (Conv2D)       (None, 9, 9, 512)         2359808   \n",
            "                                                                 \n",
            " block5_conv3 (Conv2D)       (None, 9, 9, 512)         2359808   \n",
            "                                                                 \n",
            " block5_pool (MaxPooling2D)  (None, 4, 4, 512)         0         \n",
            "                                                                 \n",
            "=================================================================\n",
            "Total params: 14714688 (56.13 MB)\n",
            "Trainable params: 0 (0.00 Byte)\n",
            "Non-trainable params: 14714688 (56.13 MB)\n",
            "_________________________________________________________________\n"
          ]
        }
      ]
    },
    {
      "cell_type": "code",
      "source": [
        "#some layers add\n",
        "from tensorflow.keras import layers, models\n",
        "from tensorflow.keras.models import Sequential\n",
        "from tensorflow.keras.layers import Dense, Flatten\n",
        "\n",
        "\n",
        "\n",
        "model = models.Sequential([\n",
        "    base_model,\n",
        "    Flatten(),\n",
        "    Dense(50, activation='relu'),\n",
        "    Dense(20, activation='relu'),\n",
        "    Dense(5, activation='softmax')\n",
        "\n",
        "])"
      ],
      "metadata": {
        "id": "v9y-U3chPwFh"
      },
      "execution_count": null,
      "outputs": []
    },
    {
      "cell_type": "code",
      "source": [
        "model.compile(\n",
        "    optimizer='adam',\n",
        "    loss='categorical_crossentropy',\n",
        "    metrics=['accuracy'],\n",
        ")\n"
      ],
      "metadata": {
        "id": "lwZl3priP6Pj"
      },
      "execution_count": null,
      "outputs": []
    },
    {
      "cell_type": "code",
      "source": [
        "\n",
        "from tensorflow.keras.callbacks import EarlyStopping\n",
        "earlystop = EarlyStopping(monitor='val_accuracy', patience=5,  restore_best_weights=True)\n",
        "history=model.fit(train_ds, train_labels, epochs=20, validation_split=0.2, batch_size=32, callbacks=[earlystop])"
      ],
      "metadata": {
        "colab": {
          "base_uri": "https://localhost:8080/"
        },
        "id": "bVXUSKXTQjXx",
        "outputId": "a8b86e93-3498-416b-ac0f-765dedae5786"
      },
      "execution_count": null,
      "outputs": [
        {
          "output_type": "stream",
          "name": "stdout",
          "text": [
            "Epoch 1/20\n",
            "65/65 [==============================] - 16s 138ms/step - loss: 1.6588 - accuracy: 0.3917 - val_loss: 1.3036 - val_accuracy: 0.4591\n",
            "Epoch 2/20\n",
            "65/65 [==============================] - 6s 86ms/step - loss: 1.0239 - accuracy: 0.5946 - val_loss: 1.1028 - val_accuracy: 0.6576\n",
            "Epoch 3/20\n",
            "65/65 [==============================] - 6s 86ms/step - loss: 0.7194 - accuracy: 0.7309 - val_loss: 1.0017 - val_accuracy: 0.6770\n",
            "Epoch 4/20\n",
            "65/65 [==============================] - 6s 90ms/step - loss: 0.5405 - accuracy: 0.7946 - val_loss: 0.9645 - val_accuracy: 0.7043\n",
            "Epoch 5/20\n",
            "65/65 [==============================] - 6s 87ms/step - loss: 0.4505 - accuracy: 0.8462 - val_loss: 0.9449 - val_accuracy: 0.7121\n",
            "Epoch 6/20\n",
            "65/65 [==============================] - 6s 91ms/step - loss: 0.3265 - accuracy: 0.8715 - val_loss: 0.9209 - val_accuracy: 0.7412\n",
            "Epoch 7/20\n",
            "65/65 [==============================] - 6s 87ms/step - loss: 0.2497 - accuracy: 0.9124 - val_loss: 0.9387 - val_accuracy: 0.7412\n",
            "Epoch 8/20\n",
            "65/65 [==============================] - 6s 86ms/step - loss: 0.1926 - accuracy: 0.9328 - val_loss: 1.1071 - val_accuracy: 0.7257\n",
            "Epoch 9/20\n",
            "65/65 [==============================] - 6s 89ms/step - loss: 0.1716 - accuracy: 0.9358 - val_loss: 1.1692 - val_accuracy: 0.7257\n",
            "Epoch 10/20\n",
            "65/65 [==============================] - 6s 89ms/step - loss: 0.1488 - accuracy: 0.9494 - val_loss: 1.2707 - val_accuracy: 0.7296\n",
            "Epoch 11/20\n",
            "65/65 [==============================] - 6s 87ms/step - loss: 0.1032 - accuracy: 0.9645 - val_loss: 1.3743 - val_accuracy: 0.7218\n"
          ]
        }
      ]
    },
    {
      "cell_type": "code",
      "source": [
        "import matplotlib.pyplot as plt\n",
        "\n",
        "# Plot training & validation accuracy\n",
        "plt.figure(figsize=(10, 5))\n",
        "plt.plot(history.history['accuracy'])\n",
        "plt.plot(history.history['val_accuracy'])\n",
        "plt.title('Model accuracy')\n",
        "plt.xlabel('Epoch')\n",
        "plt.ylabel('Accuracy')\n",
        "plt.legend(['Train', 'Validation'], loc='upper left')\n",
        "plt.show()\n",
        "\n",
        "# Plot training & validation loss\n",
        "plt.figure(figsize=(10, 5))\n",
        "plt.plot(history.history['loss'])\n",
        "plt.plot(history.history['val_loss'])\n",
        "plt.title('Model loss')\n",
        "plt.xlabel('Epoch')\n",
        "plt.ylabel('Loss')\n",
        "plt.legend(['Train', 'Validation'], loc='upper left')\n",
        "plt.show()\n"
      ],
      "metadata": {
        "colab": {
          "base_uri": "https://localhost:8080/",
          "height": 957
        },
        "id": "KO5VukdbbDar",
        "outputId": "751ebe76-6071-4675-89e8-bcb49a679a44"
      },
      "execution_count": null,
      "outputs": [
        {
          "output_type": "display_data",
          "data": {
            "text/plain": [
              "<Figure size 1000x500 with 1 Axes>"
            ],
            "image/png": "[encoded data removed]"
          },
          "metadata": {}
        },
        {
          "output_type": "display_data",
          "data": {
            "text/plain": [
              "<Figure size 1000x500 with 1 Axes>"
            ],
            "image/png": "[encoded data removed]"
          },
          "metadata": {}
        }
      ]
    },
    {
      "cell_type": "code",
      "source": [
        "import numpy as np\n",
        "\n",
        "test_labels_single = np.argmax(test_labels, axis=1)\n",
        "# test_labels contains single-label indicators rather than multilabel indicators. If test_labels is one-hot encoded (indicating multiple classes per sample), you need to convert it to single-label format where each sample has only one correct class."
      ],
      "metadata": {
        "id": "BdePxR73VrAi"
      },
      "execution_count": null,
      "outputs": []
    },
    {
      "cell_type": "code",
      "source": [
        "from sklearn.metrics import accuracy_score, precision_score, recall_score, f1_score\n",
        "import numpy as np\n",
        "\n",
        "def evaluate_model(model, test_ds, test_labels):\n",
        "    y_pred = model.predict(test_ds)\n",
        "    y_pred_classes = np.argmax(y_pred, axis=1)  # Use np.argmax instead of tf.argmax\n",
        "    accuracy = accuracy_score(test_labels, y_pred_classes)\n",
        "    precision = precision_score(test_labels, y_pred_classes, average='macro')\n",
        "    recall = recall_score(test_labels, y_pred_classes, average='macro')\n",
        "    f1 = f1_score(test_labels, y_pred_classes, average='macro')\n",
        "    return accuracy, precision, recall, f1\n",
        "\n",
        "accuracy, precision, recall, f1 = evaluate_model(model, test_ds, test_labels_single)\n"
      ],
      "metadata": {
        "colab": {
          "base_uri": "https://localhost:8080/"
        },
        "id": "eFvn7TzqREVJ",
        "outputId": "d72e13ee-6170-4026-93b7-bf2d8f13230f"
      },
      "execution_count": null,
      "outputs": [
        {
          "output_type": "stream",
          "name": "stdout",
          "text": [
            "35/35 [==============================] - 4s 125ms/step\n"
          ]
        }
      ]
    },
    {
      "cell_type": "code",
      "source": [
        "\n",
        "print(\"Transfer Learning Model:\")\n",
        "print(\"Accuracy:\", accuracy)\n",
        "print(\"Precision:\", precision)\n",
        "print(\"Recall:\", recall)\n",
        "print(\"F1 Score:\", f1)\n"
      ],
      "metadata": {
        "colab": {
          "base_uri": "https://localhost:8080/"
        },
        "id": "m1HffN6LThA4",
        "outputId": "18cce553-acac-40d2-b1f4-99a3935b4739"
      },
      "execution_count": null,
      "outputs": [
        {
          "output_type": "stream",
          "name": "stdout",
          "text": [
            "Transfer Learning Model:\n",
            "Accuracy: 0.9082652134423251\n",
            "Precision: 0.9099357060716236\n",
            "Recall: 0.906040035266263\n",
            "F1 Score: 0.906411703263454\n"
          ]
        }
      ]
    },
    {
      "cell_type": "code",
      "source": [],
      "metadata": {
        "id": "pXpnGYIIUHjw"
      },
      "execution_count": null,
      "outputs": []
    },
    {
      "cell_type": "code",
      "source": [
        "# Fine-tuning\n",
        "model.fit(train_ds, train_labels, epochs=20, validation_split=0.2, batch_size=32, callbacks=[earlystop])\n",
        "\n",
        "\n",
        "base_model.trainable = True\n",
        "\n",
        "model_ft = Sequential([\n",
        "    base_model,\n",
        "    Flatten(),\n",
        "    Dense(256, activation='relu'),\n",
        "    Dense(64, activation='relu'),\n",
        "    Dense(5, activation='softmax')\n",
        "])\n",
        "\n",
        "model_ft.compile(optimizer='adam', loss='categorical_crossentropy', metrics=['accuracy'])\n",
        "\n",
        "history=model_ft.fit(train_ds, train_labels, epochs=20, validation_split=0.2, batch_size=32)"
      ],
      "metadata": {
        "colab": {
          "base_uri": "https://localhost:8080/"
        },
        "id": "6F2tb-XGVHIx",
        "outputId": "0cefc31a-f64b-46af-92b2-4de944de0153"
      },
      "execution_count": null,
      "outputs": [
        {
          "output_type": "stream",
          "name": "stdout",
          "text": [
            "Epoch 1/20\n",
            "65/65 [==============================] - 6s 93ms/step - loss: 0.2586 - accuracy: 0.9036 - val_loss: 1.1620 - val_accuracy: 0.7082\n",
            "Epoch 2/20\n",
            "65/65 [==============================] - 6s 94ms/step - loss: 0.1906 - accuracy: 0.9314 - val_loss: 1.0124 - val_accuracy: 0.7451\n",
            "Epoch 3/20\n",
            "65/65 [==============================] - 6s 95ms/step - loss: 0.1917 - accuracy: 0.9387 - val_loss: 1.3089 - val_accuracy: 0.6984\n",
            "Epoch 4/20\n",
            "65/65 [==============================] - 6s 97ms/step - loss: 0.1414 - accuracy: 0.9528 - val_loss: 1.2379 - val_accuracy: 0.7179\n",
            "Epoch 5/20\n",
            "65/65 [==============================] - 6s 91ms/step - loss: 0.1323 - accuracy: 0.9533 - val_loss: 1.3339 - val_accuracy: 0.7374\n",
            "Epoch 6/20\n",
            "65/65 [==============================] - 6s 94ms/step - loss: 0.1065 - accuracy: 0.9635 - val_loss: 1.4155 - val_accuracy: 0.7198\n",
            "Epoch 7/20\n",
            "65/65 [==============================] - 6s 89ms/step - loss: 0.0918 - accuracy: 0.9698 - val_loss: 1.3417 - val_accuracy: 0.7471\n",
            "Epoch 8/20\n",
            "65/65 [==============================] - 6s 87ms/step - loss: 0.0892 - accuracy: 0.9723 - val_loss: 1.4004 - val_accuracy: 0.7062\n",
            "Epoch 9/20\n",
            "65/65 [==============================] - 6s 85ms/step - loss: 0.0632 - accuracy: 0.9776 - val_loss: 1.5090 - val_accuracy: 0.7257\n",
            "Epoch 10/20\n",
            "65/65 [==============================] - 6s 88ms/step - loss: 0.0431 - accuracy: 0.9864 - val_loss: 1.4685 - val_accuracy: 0.7296\n",
            "Epoch 11/20\n",
            "65/65 [==============================] - 6s 85ms/step - loss: 0.0326 - accuracy: 0.9893 - val_loss: 1.5786 - val_accuracy: 0.7257\n",
            "Epoch 12/20\n",
            "65/65 [==============================] - 6s 88ms/step - loss: 0.0396 - accuracy: 0.9888 - val_loss: 1.5868 - val_accuracy: 0.7218\n",
            "Epoch 1/20\n",
            "65/65 [==============================] - 31s 276ms/step - loss: 3.4011 - accuracy: 0.2384 - val_loss: 1.5972 - val_accuracy: 0.2588\n",
            "Epoch 2/20\n",
            "65/65 [==============================] - 15s 230ms/step - loss: 1.4270 - accuracy: 0.3684 - val_loss: 1.3289 - val_accuracy: 0.3813\n",
            "Epoch 3/20\n",
            "65/65 [==============================] - 15s 227ms/step - loss: 1.3081 - accuracy: 0.4165 - val_loss: 1.3434 - val_accuracy: 0.4105\n",
            "Epoch 4/20\n",
            "65/65 [==============================] - 14s 223ms/step - loss: 1.3034 - accuracy: 0.4287 - val_loss: 1.2329 - val_accuracy: 0.4805\n",
            "Epoch 5/20\n",
            "65/65 [==============================] - 15s 227ms/step - loss: 1.1962 - accuracy: 0.4929 - val_loss: 1.1684 - val_accuracy: 0.4961\n",
            "Epoch 6/20\n",
            "65/65 [==============================] - 15s 225ms/step - loss: 1.1826 - accuracy: 0.4876 - val_loss: 1.2732 - val_accuracy: 0.4533\n",
            "Epoch 7/20\n",
            "65/65 [==============================] - 15s 225ms/step - loss: 1.1463 - accuracy: 0.5207 - val_loss: 1.2293 - val_accuracy: 0.4825\n",
            "Epoch 8/20\n",
            "65/65 [==============================] - 14s 222ms/step - loss: 1.1150 - accuracy: 0.5397 - val_loss: 1.1336 - val_accuracy: 0.5350\n",
            "Epoch 9/20\n",
            "65/65 [==============================] - 15s 225ms/step - loss: 1.1068 - accuracy: 0.5387 - val_loss: 1.2643 - val_accuracy: 0.4961\n",
            "Epoch 10/20\n",
            "65/65 [==============================] - 15s 225ms/step - loss: 1.0965 - accuracy: 0.5689 - val_loss: 1.1327 - val_accuracy: 0.5156\n",
            "Epoch 11/20\n",
            "65/65 [==============================] - 15s 225ms/step - loss: 1.0390 - accuracy: 0.5835 - val_loss: 1.0883 - val_accuracy: 0.5700\n",
            "Epoch 12/20\n",
            "65/65 [==============================] - 14s 221ms/step - loss: 1.0237 - accuracy: 0.5946 - val_loss: 0.9944 - val_accuracy: 0.6304\n",
            "Epoch 13/20\n",
            "65/65 [==============================] - 15s 224ms/step - loss: 0.9541 - accuracy: 0.6380 - val_loss: 1.0355 - val_accuracy: 0.6051\n",
            "Epoch 14/20\n",
            "65/65 [==============================] - 15s 225ms/step - loss: 0.9070 - accuracy: 0.6652 - val_loss: 0.9242 - val_accuracy: 0.6518\n",
            "Epoch 15/20\n",
            "65/65 [==============================] - 14s 221ms/step - loss: 0.8877 - accuracy: 0.6725 - val_loss: 1.0294 - val_accuracy: 0.5973\n",
            "Epoch 16/20\n",
            "65/65 [==============================] - 15s 225ms/step - loss: 0.8897 - accuracy: 0.6608 - val_loss: 0.9168 - val_accuracy: 0.6284\n",
            "Epoch 17/20\n",
            "65/65 [==============================] - 14s 221ms/step - loss: 0.8273 - accuracy: 0.7061 - val_loss: 1.1159 - val_accuracy: 0.6109\n",
            "Epoch 18/20\n",
            "65/65 [==============================] - 15s 225ms/step - loss: 0.7707 - accuracy: 0.7207 - val_loss: 0.8563 - val_accuracy: 0.6946\n",
            "Epoch 19/20\n",
            "65/65 [==============================] - 15s 224ms/step - loss: 0.8563 - accuracy: 0.6905 - val_loss: 0.9577 - val_accuracy: 0.6498\n",
            "Epoch 20/20\n",
            "65/65 [==============================] - 14s 223ms/step - loss: 0.7683 - accuracy: 0.7202 - val_loss: 1.0802 - val_accuracy: 0.6634\n"
          ]
        },
        {
          "output_type": "execute_result",
          "data": {
            "text/plain": [
              "<keras.src.callbacks.History at 0x7e1ae9eb67a0>"
            ]
          },
          "metadata": {},
          "execution_count": 21
        }
      ]
    },
    {
      "cell_type": "code",
      "source": [
        "accuracy, precision, recall, f1 = evaluate_model(model_ft, test_ds, test_labels_single)\n",
        "print(\"Transfer Learning Model:\")\n",
        "print(\"Accuracy:\", accuracy)\n",
        "print(\"Precision:\", precision)\n",
        "print(\"Recall:\", recall)\n",
        "print(\"F1 Score:\", f1)\n"
      ],
      "metadata": {
        "colab": {
          "base_uri": "https://localhost:8080/"
        },
        "id": "w6dwG7RpWd7R",
        "outputId": "2d4765d3-2009-4180-84f7-9e8a54b4c42a"
      },
      "execution_count": null,
      "outputs": [
        {
          "output_type": "stream",
          "name": "stdout",
          "text": [
            "35/35 [==============================] - 3s 66ms/step\n",
            "Transfer Learning Model:\n",
            "Accuracy: 0.7293369663941871\n",
            "Precision: 0.7374115543345703\n",
            "Recall: 0.7138662859996623\n",
            "F1 Score: 0.7073906850804897\n"
          ]
        }
      ]
    },
    {
      "cell_type": "code",
      "source": [],
      "metadata": {
        "id": "PNdE6lpOc8KS"
      },
      "execution_count": null,
      "outputs": []
    }
  ]
}