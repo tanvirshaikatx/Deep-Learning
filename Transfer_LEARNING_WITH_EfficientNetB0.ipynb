{
  "nbformat": 4,
  "nbformat_minor": 0,
  "metadata": {
    "colab": {
      "provenance": [],
      "gpuType": "T4"
    },
    "kernelspec": {
      "name": "python3",
      "display_name": "Python 3"
    },
    "language_info": {
      "name": "python"
    },
    "accelerator": "GPU"
  },
  "cells": [
    {
      "cell_type": "code",
      "execution_count": null,
      "metadata": {
        "id": "s5Hbi5tsnsZq"
      },
      "outputs": [],
      "source": [
        "import tensorflow as tf\n",
        "from tensorflow.keras.datasets import cifar10\n",
        "from tensorflow.keras.applications import EfficientNetB0\n",
        "from tensorflow.keras.models import Sequential\n",
        "from tensorflow.keras.layers import GlobalAveragePooling2D, Dense\n",
        "from sklearn.metrics import accuracy_score, precision_score, recall_score, f1_score\n",
        "import numpy as np\n"
      ]
    },
    {
      "cell_type": "code",
      "source": [
        "(x_train, y_train), (x_test, y_test) = cifar10.load_data()\n",
        "x_train = x_train.astype('float32') / 255.0\n",
        "x_test = x_test.astype('float32') / 255.0\n"
      ],
      "metadata": {
        "colab": {
          "base_uri": "https://localhost:8080/"
        },
        "id": "k50_YDMjoXck",
        "outputId": "741ac18d-2b79-4ab6-f70c-1df7a06481a4"
      },
      "execution_count": null,
      "outputs": [
        {
          "output_type": "stream",
          "name": "stdout",
          "text": [
            "Downloading data from https://www.cs.toronto.edu/~kriz/cifar-10-python.tar.gz\n",
            "170498071/170498071 [==============================] - 3s 0us/step\n"
          ]
        }
      ]
    },
    {
      "cell_type": "code",
      "source": [
        "base_model = EfficientNetB0(weights='imagenet', include_top=False, input_shape=(32, 32, 3))\n",
        "for layer in base_model.layers:\n",
        "    layer.trainable = False\n",
        "\n",
        "model1 = Sequential([\n",
        "    base_model,\n",
        "    GlobalAveragePooling2D(),\n",
        "    Dense(10, activation='softmax')\n",
        "])"
      ],
      "metadata": {
        "colab": {
          "base_uri": "https://localhost:8080/"
        },
        "id": "TEA869ggog8Z",
        "outputId": "c6a0eeaf-fb83-489f-e2a4-a4c6341b9e14"
      },
      "execution_count": null,
      "outputs": [
        {
          "output_type": "stream",
          "name": "stdout",
          "text": [
            "Downloading data from https://storage.googleapis.com/keras-applications/efficientnetb0_notop.h5\n",
            "16705208/16705208 [==============================] - 0s 0us/step\n"
          ]
        }
      ]
    },
    {
      "cell_type": "code",
      "source": [
        "model1.compile(optimizer='adam', loss='sparse_categorical_crossentropy', metrics=['accuracy'])\n",
        "model1.fit(x_train, y_train, epochs=5, batch_size=64, validation_split=0.2)"
      ],
      "metadata": {
        "colab": {
          "base_uri": "https://localhost:8080/"
        },
        "id": "zhhzbsPaomYi",
        "outputId": "d7d3066f-8262-4d38-ce86-6b00f621967e"
      },
      "execution_count": null,
      "outputs": [
        {
          "output_type": "stream",
          "name": "stdout",
          "text": [
            "Epoch 1/5\n",
            "625/625 [==============================] - 21s 17ms/step - loss: 2.3243 - accuracy: 0.0997 - val_loss: 2.3168 - val_accuracy: 0.0977\n",
            "Epoch 2/5\n",
            "625/625 [==============================] - 7s 11ms/step - loss: 2.3229 - accuracy: 0.1023 - val_loss: 2.3272 - val_accuracy: 0.1016\n",
            "Epoch 3/5\n",
            "625/625 [==============================] - 6s 10ms/step - loss: 2.3193 - accuracy: 0.1053 - val_loss: 2.3442 - val_accuracy: 0.1014\n",
            "Epoch 4/5\n",
            "625/625 [==============================] - 7s 11ms/step - loss: 2.3212 - accuracy: 0.1055 - val_loss: 2.3014 - val_accuracy: 0.1024\n",
            "Epoch 5/5\n",
            "625/625 [==============================] - 18s 29ms/step - loss: 2.3204 - accuracy: 0.1028 - val_loss: 2.3324 - val_accuracy: 0.0952\n"
          ]
        },
        {
          "output_type": "execute_result",
          "data": {
            "text/plain": [
              "<keras.src.callbacks.History at 0x7be90c1bed10>"
            ]
          },
          "metadata": {},
          "execution_count": 4
        }
      ]
    },
    {
      "cell_type": "code",
      "source": [
        "base_model.trainable = True\n",
        "model2 = Sequential([\n",
        "    base_model,\n",
        "    GlobalAveragePooling2D(),\n",
        "    Dense(256, activation='relu'),\n",
        "    Dense(128, activation='relu'),\n",
        "    Dense(10, activation='softmax')\n",
        "])\n"
      ],
      "metadata": {
        "id": "KCvI--FkopUz"
      },
      "execution_count": null,
      "outputs": []
    },
    {
      "cell_type": "code",
      "source": [
        "model2.compile(optimizer='adam', loss='categorical_crossentropy', metrics=['accuracy'])\n",
        "model2.fit(x_train, y_train, epochs=5, batch_size=64, validation_split=0.2)"
      ],
      "metadata": {
        "colab": {
          "base_uri": "https://localhost:8080/"
        },
        "id": "OihzTPDFotYT",
        "outputId": "2459af4e-62f7-4dca-f7b2-10aac7deb6b2"
      },
      "execution_count": null,
      "outputs": [
        {
          "output_type": "stream",
          "name": "stdout",
          "text": [
            "Epoch 1/5\n",
            "625/625 [==============================] - 65s 48ms/step - loss: 1.4102 - accuracy: 0.5068 - val_loss: 2.5916 - val_accuracy: 0.1306\n",
            "Epoch 2/5\n",
            "625/625 [==============================] - 27s 43ms/step - loss: 0.9111 - accuracy: 0.6868 - val_loss: 3.4862 - val_accuracy: 0.1173\n",
            "Epoch 3/5\n",
            "625/625 [==============================] - 40s 64ms/step - loss: 0.7387 - accuracy: 0.7487 - val_loss: 3.3066 - val_accuracy: 0.1900\n",
            "Epoch 4/5\n",
            "625/625 [==============================] - 25s 41ms/step - loss: 0.6377 - accuracy: 0.7812 - val_loss: 3.3389 - val_accuracy: 0.1626\n",
            "Epoch 5/5\n",
            "625/625 [==============================] - 28s 45ms/step - loss: 0.5536 - accuracy: 0.8087 - val_loss: 4.1109 - val_accuracy: 0.0995\n"
          ]
        },
        {
          "output_type": "execute_result",
          "data": {
            "text/plain": [
              "<keras.src.callbacks.History at 0x7be894d9a6b0>"
            ]
          },
          "metadata": {},
          "execution_count": 6
        }
      ]
    },
    {
      "cell_type": "code",
      "source": [
        "def evaluate_model(model, x_test, y_test):\n",
        "    y_pred = model.predict(x_test)\n",
        "    y_pred_classes = np.argmax(y_pred, axis=1)\n",
        "    accuracy = accuracy_score(y_test, y_pred_classes)\n",
        "    precision = precision_score(y_test, y_pred_classes, average='macro')\n",
        "    recall = recall_score(y_test, y_pred_classes, average='macro')\n",
        "    f1 = f1_score(y_test, y_pred_classes, average='macro')\n",
        "    return accuracy, precision, recall, f1\n",
        "\n",
        "accuracy_tl, precision_tl, recall_tl, f1_tl = evaluate_model(model1, x_test, y_test)\n",
        "accuracy_ft, precision_ft, recall_ft, f1_ft = evaluate_model(model2, x_test, y_test)\n"
      ],
      "metadata": {
        "colab": {
          "base_uri": "https://localhost:8080/"
        },
        "id": "TtwXaXdyoud5",
        "outputId": "1eb77223-38ad-4b97-81f1-651269f5e566"
      },
      "execution_count": null,
      "outputs": [
        {
          "output_type": "stream",
          "name": "stdout",
          "text": [
            "313/313 [==============================] - 5s 9ms/step\n"
          ]
        },
        {
          "output_type": "stream",
          "name": "stderr",
          "text": [
            "/usr/local/lib/python3.10/dist-packages/sklearn/metrics/_classification.py:1344: UndefinedMetricWarning: Precision is ill-defined and being set to 0.0 in labels with no predicted samples. Use `zero_division` parameter to control this behavior.\n",
            "  _warn_prf(average, modifier, msg_start, len(result))\n"
          ]
        },
        {
          "output_type": "stream",
          "name": "stdout",
          "text": [
            "313/313 [==============================] - 5s 11ms/step\n"
          ]
        },
        {
          "output_type": "stream",
          "name": "stderr",
          "text": [
            "/usr/local/lib/python3.10/dist-packages/sklearn/metrics/_classification.py:1344: UndefinedMetricWarning: Precision is ill-defined and being set to 0.0 in labels with no predicted samples. Use `zero_division` parameter to control this behavior.\n",
            "  _warn_prf(average, modifier, msg_start, len(result))\n"
          ]
        }
      ]
    },
    {
      "cell_type": "code",
      "source": [
        "print(\"Transfer Learning Model Metrics:\")\n",
        "print(\"Accuracy:\", accuracy_tl)\n",
        "print(\"Precision:\", precision_tl)\n",
        "print(\"Recall:\", recall_tl)\n",
        "print(\"F1-score:\", f1_tl)\n",
        "print()\n",
        "print(\"Fine-tuned Model Metrics:\")\n",
        "print(\"Accuracy:\", accuracy_ft)\n",
        "print(\"Precision:\", precision_ft)\n",
        "print(\"Recall:\", recall_ft)\n",
        "print(\"F1-score:\", f1_ft)"
      ],
      "metadata": {
        "colab": {
          "base_uri": "https://localhost:8080/"
        },
        "id": "390Z2Q_kouba",
        "outputId": "9b1c48ca-a105-4235-8f2f-12e94c907537"
      },
      "execution_count": null,
      "outputs": [
        {
          "output_type": "stream",
          "name": "stdout",
          "text": [
            "Transfer Learning Model Metrics:\n",
            "Accuracy: 0.1024\n",
            "Precision: 0.042507229793152496\n",
            "Recall: 0.1024\n",
            "F1-score: 0.044701108885242105\n",
            "\n",
            "Fine-tuned Model Metrics:\n",
            "Accuracy: 0.0989\n",
            "Precision: 0.01963950144380496\n",
            "Recall: 0.0989\n",
            "F1-score: 0.031105302585690487\n"
          ]
        }
      ]
    },
    {
      "cell_type": "code",
      "source": [
        "import matplotlib.pyplot as plt\n",
        "\n",
        "metrics = ['Accuracy', 'Precision', 'Recall', 'F1-score']\n",
        "transfer_learning_metrics = [accuracy_tl, precision_tl, recall_tl, f1_tl]\n",
        "fine_tuned_metrics = [accuracy_ft, precision_ft, recall_ft, f1_ft]\n",
        "\n",
        "plt.figure(figsize=(10, 6))\n",
        "\n",
        "plt.bar(np.arange(len(metrics)) - 0.2, transfer_learning_metrics, width=0.4, label='Transfer Learning', color='blue')\n",
        "\n",
        "plt.bar(np.arange(len(metrics)) + 0.2, fine_tuned_metrics, width=0.4, label='Fine-tuned', color='orange')\n",
        "\n",
        "plt.xticks(np.arange(len(metrics)), metrics)\n",
        "\n",
        "plt.ylabel('Score')\n",
        "\n",
        "plt.title('Evaluation Metrics Comparison')\n",
        "plt.legend()\n",
        "plt.tight_layout()\n",
        "plt.show()\n"
      ],
      "metadata": {
        "colab": {
          "base_uri": "https://localhost:8080/",
          "height": 607
        },
        "id": "rutN-OrFouXi",
        "outputId": "c428ab52-732a-4abd-88dd-67e7382a7097"
      },
      "execution_count": null,
      "outputs": [
        {
          "output_type": "display_data",
          "data": {
            "text/plain": [
              "<Figure size 1000x600 with 1 Axes>"
            ],
            "image/png": "[encoded data removed]"
          },
          "metadata": {}
        }
      ]
    },
    {
      "cell_type": "code",
      "source": [],
      "metadata": {
        "id": "mxt6BLonouVS"
      },
      "execution_count": null,
      "outputs": []
    },
    {
      "cell_type": "markdown",
      "source": [
        "Data Preprocessing: The CIFAR-10 dataset, consisting of 60,000 32x32 color images in 10 classes, is loaded and preprocessed. The pixel values are scaled to the range [0, 1].\n",
        "\n",
        "Transfer Learning with EfficientNetB0: The EfficientNetB0 model pre-trained on ImageNet is employed for transfer learning. The pre-trained weights of the base model are frozen, and a new classification head is added on top. The model is compiled with the Adam optimizer and trained on the CIFAR-10 training data for 5 epochs.\n",
        "\n",
        "Fine-tuning: The base EfficientNetB0 model is unfrozen, and the entire model is trained end-to-end on the CIFAR-10 dataset to perform fine-tuning. Again, the model is trained for 5 epochs with the Adam optimizer.\n",
        "\n",
        "Evaluation Metrics: The accuracy, precision, recall, and F1-score are calculated for both the transfer learning model and the fine-tuned model using the test data.\n",
        "\n",
        "Visualization: Matplotlib is used to plot a bar graph comparing the evaluation metrics of the transfer learning model and the fine-tuned model. Each evaluation metric (accuracy, precision, recall, and F1-score) is represented by a bar, with one set of bars for the transfer learning model and another set for the fine-tuned model. This visualization allows for a quick comparison of the performance of the two models across different metrics."
      ],
      "metadata": {
        "id": "fHkLcUW7rLJT"
      }
    },
    {
      "cell_type": "code",
      "source": [],
      "metadata": {
        "id": "JP-FRUIWouS6"
      },
      "execution_count": null,
      "outputs": []
    }
  ]
}